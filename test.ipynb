{
 "cells": [
  {
   "cell_type": "code",
   "execution_count": 1,
   "metadata": {},
   "outputs": [
    {
     "name": "stderr",
     "output_type": "stream",
     "text": [
      "<>:1: SyntaxWarning: invalid escape sequence '\\m'\n",
      "<>:1: SyntaxWarning: invalid escape sequence '\\m'\n",
      "C:\\Users\\Jeonghwan Cho\\AppData\\Local\\Temp\\ipykernel_11224\\859187603.py:1: SyntaxWarning: invalid escape sequence '\\m'\n",
      "  open('C:/Users/Jeonghwan Cho/Desktop/Term_Project/Pointnet_Pointnet2/data/modelnet40_normal_resampled\\metadata_modelnet40.csv')\n"
     ]
    },
    {
     "data": {
      "text/plain": [
       "<_io.TextIOWrapper name='C:/Users/Jeonghwan Cho/Desktop/Term_Project/Pointnet_Pointnet2/data/modelnet40_normal_resampled\\\\metadata_modelnet40.csv' mode='r' encoding='utf-8'>"
      ]
     },
     "execution_count": 1,
     "metadata": {},
     "output_type": "execute_result"
    }
   ],
   "source": [
    "open('C:/Users/Jeonghwan Cho/Desktop/Term_Project/Pointnet_Pointnet2/data/modelnet40_normal_resampled\\metadata_modelnet40.csv')"
   ]
  },
  {
   "cell_type": "code",
   "execution_count": 3,
   "metadata": {},
   "outputs": [
    {
     "data": {
      "text/plain": [
       "'c:\\\\Users\\\\Jeonghwan Cho\\\\Desktop\\\\Term_Project\\\\Pointnet_Pointnet2'"
      ]
     },
     "execution_count": 3,
     "metadata": {},
     "output_type": "execute_result"
    }
   ],
   "source": [
    "os.getcwd()"
   ]
  },
  {
   "cell_type": "code",
   "execution_count": 48,
   "metadata": {},
   "outputs": [],
   "source": [
    "file_path = 'C:/Users/Jeonghwan Cho/Desktop/Term_Project/Pointnet_Pointnet2/data/modelnet40_normal_resampled/bathtub/train/bathtub_0001.off'"
   ]
  },
  {
   "cell_type": "code",
   "execution_count": 62,
   "metadata": {},
   "outputs": [],
   "source": [
    "with open(file_path, 'r') as f:\n",
    "    # 첫 번째 줄은 'OFF' 문자열이므로 건너뜀\n",
    "    first_row = f.readline()"
   ]
  },
  {
   "cell_type": "code",
   "execution_count": 68,
   "metadata": {},
   "outputs": [
    {
     "data": {
      "text/plain": [
       "['3514', '3546', '0']"
      ]
     },
     "execution_count": 68,
     "metadata": {},
     "output_type": "execute_result"
    }
   ],
   "source": [
    "first_row.lstrip('OFF').strip().split()"
   ]
  },
  {
   "cell_type": "code",
   "execution_count": null,
   "metadata": {},
   "outputs": [
    {
     "name": "stdout",
     "output_type": "stream",
     "text": [
      "OFF3514 3546 0\n",
      "\n",
      "18.514300 29.873400 -23.038200\n",
      "\n"
     ]
    },
    {
     "ename": "ValueError",
     "evalue": "invalid literal for int() with base 10: '18.501200'",
     "output_type": "error",
     "traceback": [
      "\u001b[1;31m---------------------------------------------------------------------------\u001b[0m",
      "\u001b[1;31mValueError\u001b[0m                                Traceback (most recent call last)",
      "Cell \u001b[1;32mIn[59], line 8\u001b[0m\n\u001b[0;32m      5\u001b[0m     \u001b[38;5;28mprint\u001b[39m(f\u001b[38;5;241m.\u001b[39mreadline())\n\u001b[0;32m      7\u001b[0m \u001b[38;5;66;03m# 두 번째 줄에서 정점과 면의 개수 읽기\u001b[39;00m\n\u001b[1;32m----> 8\u001b[0m n_verts, n_faces, _ \u001b[38;5;241m=\u001b[39m \u001b[38;5;28mmap\u001b[39m(\u001b[38;5;28mint\u001b[39m, f\u001b[38;5;241m.\u001b[39mreadline()\u001b[38;5;241m.\u001b[39mstrip()\u001b[38;5;241m.\u001b[39msplit())\n\u001b[0;32m     10\u001b[0m \u001b[38;5;66;03m# 정점 좌표 읽기\u001b[39;00m\n\u001b[0;32m     11\u001b[0m vertices \u001b[38;5;241m=\u001b[39m [\u001b[38;5;28mlist\u001b[39m(\u001b[38;5;28mmap\u001b[39m(\u001b[38;5;28mfloat\u001b[39m, f\u001b[38;5;241m.\u001b[39mreadline()\u001b[38;5;241m.\u001b[39mstrip()\u001b[38;5;241m.\u001b[39msplit())) \u001b[38;5;28;01mfor\u001b[39;00m _ \u001b[38;5;129;01min\u001b[39;00m \u001b[38;5;28mrange\u001b[39m(n_verts)]\n",
      "\u001b[1;31mValueError\u001b[0m: invalid literal for int() with base 10: '18.501200'"
     ]
    }
   ],
   "source": [
    "with open(file_path, 'r') as f:\n",
    "    # 첫 번째 줄은 'OFF' 문자열이므로 건너뜀\n",
    "    first_row = f.readlines()\n",
    "    if first_row != 'OFF':\n",
    "        n_verts, n_faces, _ = map(int, f.readline().lstrip('OFF').strip().split())\n",
    "    \n",
    "    # 두 번째 줄에서 정점과 면의 개수 읽기\n",
    "    else:\n",
    "        n_verts, n_faces, _ = map(int, f.readline().strip().split())\n",
    "        \n",
    "    # 정점 좌표 읽기\n",
    "    vertices = [list(map(float, f.readline().strip().split())) for _ in range(n_verts)]"
   ]
  },
  {
   "cell_type": "code",
   "execution_count": 41,
   "metadata": {},
   "outputs": [
    {
     "data": {
      "text/plain": [
       "['airplane',\n",
       " 'bathtub',\n",
       " 'bed',\n",
       " 'bench',\n",
       " 'bookshelf',\n",
       " 'bottle',\n",
       " 'bowl',\n",
       " 'car',\n",
       " 'chair',\n",
       " 'cone',\n",
       " 'cup',\n",
       " 'curtain',\n",
       " 'desk',\n",
       " 'door',\n",
       " 'dresser',\n",
       " 'flower',\n",
       " 'glass',\n",
       " 'guitar',\n",
       " 'keyboard',\n",
       " 'lamp',\n",
       " 'laptop',\n",
       " 'mantel',\n",
       " 'monitor',\n",
       " 'night',\n",
       " 'person',\n",
       " 'piano',\n",
       " 'plant',\n",
       " 'radio',\n",
       " 'range',\n",
       " 'sink',\n",
       " 'sofa',\n",
       " 'stairs',\n",
       " 'stool',\n",
       " 'table',\n",
       " 'tent',\n",
       " 'toilet',\n",
       " 'tv',\n",
       " 'vase',\n",
       " 'wardrobe',\n",
       " 'xbox']"
      ]
     },
     "execution_count": 41,
     "metadata": {},
     "output_type": "execute_result"
    }
   ],
   "source": [
    "a"
   ]
  },
  {
   "cell_type": "code",
   "execution_count": 42,
   "metadata": {},
   "outputs": [
    {
     "data": {
      "text/plain": [
       "0"
      ]
     },
     "execution_count": 42,
     "metadata": {},
     "output_type": "execute_result"
    }
   ],
   "source": [
    "a.index('airplane')"
   ]
  }
 ],
 "metadata": {
  "kernelspec": {
   "display_name": "base",
   "language": "python",
   "name": "python3"
  },
  "language_info": {
   "codemirror_mode": {
    "name": "ipython",
    "version": 3
   },
   "file_extension": ".py",
   "mimetype": "text/x-python",
   "name": "python",
   "nbconvert_exporter": "python",
   "pygments_lexer": "ipython3",
   "version": "3.12.4"
  }
 },
 "nbformat": 4,
 "nbformat_minor": 2
}
